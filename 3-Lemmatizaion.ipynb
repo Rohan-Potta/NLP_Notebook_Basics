{
 "cells": [
  {
   "cell_type": "markdown",
   "id": "58dd5243",
   "metadata": {},
   "source": [
    "Lemmatization is the process where we take the root word , instead of the root stem (which is what we get in the stemming) and that root word is what we call as lemma"
   ]
  },
  {
   "cell_type": "code",
   "execution_count": 1,
   "id": "e9231480",
   "metadata": {},
   "outputs": [
    {
     "name": "stderr",
     "output_type": "stream",
     "text": [
      "[nltk_data] Downloading package wordnet to\n",
      "[nltk_data]     C:\\Users\\Rohan\\AppData\\Roaming\\nltk_data...\n",
      "[nltk_data]   Package wordnet is already up-to-date!\n"
     ]
    },
    {
     "data": {
      "text/plain": [
       "True"
      ]
     },
     "execution_count": 1,
     "metadata": {},
     "output_type": "execute_result"
    }
   ],
   "source": [
    "import nltk\n",
    "nltk.download('wordnet')"
   ]
  },
  {
   "cell_type": "code",
   "execution_count": 2,
   "id": "e4017fa3",
   "metadata": {},
   "outputs": [
    {
     "name": "stdout",
     "output_type": "stream",
     "text": [
      "going\n",
      "go\n"
     ]
    }
   ],
   "source": [
    "from nltk.stem import WordNetLemmatizer\n",
    "lemmatizer=WordNetLemmatizer()\n",
    "\n",
    "'''\n",
    "POS\n",
    "Noun - N\n",
    "Verb - v\n",
    "Adjective -a\n",
    "Adverb - r\n",
    "'''\n",
    "print(lemmatizer.lemmatize(\"going\",pos='n'))\n",
    "print(lemmatizer.lemmatize(\"going\",pos='v'))"
   ]
  },
  {
   "cell_type": "code",
   "execution_count": 3,
   "id": "ca4f155a",
   "metadata": {},
   "outputs": [
    {
     "name": "stdout",
     "output_type": "stream",
     "text": [
      "eating--->eating\n",
      "eats--->eats\n",
      "eaten--->eaten\n",
      "writing--->writing\n",
      "writes--->writes\n",
      "programming--->programming\n",
      "programs--->program\n",
      "history--->history\n",
      "finally--->finally\n",
      "finalize--->finalize\n",
      "congradulations--->congradulations\n",
      "fairly--->fairly\n",
      "Sportingly--->Sportingly\n",
      "------------The point is that considering it as a noun is pretty redundant--------------\n",
      "eating--->eat\n",
      "eats--->eat\n",
      "eaten--->eat\n",
      "writing--->write\n",
      "writes--->write\n",
      "programming--->program\n",
      "programs--->program\n",
      "history--->history\n",
      "finally--->finally\n",
      "finalize--->finalize\n",
      "congradulations--->congradulations\n",
      "fairly--->fairly\n",
      "Sportingly--->Sportingly\n"
     ]
    }
   ],
   "source": [
    "words = [\"eating\",\"eats\",\"eaten\",\"writing\",\"writes\",\"programming\",\"programs\",\"history\", \"finally\" , \"finalize\",\"congradulations\",\"fairly\",\"Sportingly\"]\n",
    "\n",
    "\n",
    "for word in words:\n",
    "    print(word+\"--->\"+lemmatizer.lemmatize(word,pos=\"n\"))\n",
    "\n",
    "print(\"------------The point is that considering it as a noun is pretty redundant--------------\")\n",
    "for word in words:\n",
    "    print(word+\"--->\"+lemmatizer.lemmatize(word,pos=\"v\"))\n"
   ]
  },
  {
   "cell_type": "code",
   "execution_count": null,
   "id": "961915d8",
   "metadata": {},
   "outputs": [],
   "source": []
  }
 ],
 "metadata": {
  "kernelspec": {
   "display_name": "base",
   "language": "python",
   "name": "python3"
  },
  "language_info": {
   "codemirror_mode": {
    "name": "ipython",
    "version": 3
   },
   "file_extension": ".py",
   "mimetype": "text/x-python",
   "name": "python",
   "nbconvert_exporter": "python",
   "pygments_lexer": "ipython3",
   "version": "3.12.4"
  }
 },
 "nbformat": 4,
 "nbformat_minor": 5
}
