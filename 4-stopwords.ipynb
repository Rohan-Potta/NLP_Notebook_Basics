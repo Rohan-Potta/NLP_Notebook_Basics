{
 "cells": [
  {
   "cell_type": "code",
   "execution_count": 1,
   "id": "a99396d0",
   "metadata": {},
   "outputs": [],
   "source": [
    "corpus = \"\"\"I have three visions for India. In 3000 years of history, people from all over the world have come and conquered us — ruled us, looted us — yet we have not done this to others. Why? Because we respect freedom. That is why my first vision is freedom. I believe that India got its first vision of this in 1947. We earned our freedom; we should protect and build on it.\n",
    "My second vision is development. For fifty years, we have been a developing nation. It is time we see ourselves as a developed nation. We are among the top five nations in terms of GDP. Yet we see ourselves as a poor country. It's time to dream big. We must stand up and take responsibility for making India a developed nation.\n",
    "My third vision is India must stand up to the world. Unless India stands up to the world, no one will respect us. Only strength respects strength. We must be strong not only as a military power but also as an economic one. We must realize that self-respect comes only when the nation is strong and self-reliant.\n",
    "I am confident that India has the potential. The youth of India must take charge, innovate, work hard, and stay committed to the nation. If we want to be a great nation, each one of us must contribute with dedication. Let's ignite our minds, take pride in our country, and work towards a strong, self-reliant India.\n",
    "\"\"\"\n",
    "\n",
    "#The process to clean it is 1)applying tokenization 2) remove the stopwords 3) apply stemming/lemmatization\n",
    "\n"
   ]
  },
  {
   "cell_type": "code",
   "execution_count": 2,
   "id": "9100bf50",
   "metadata": {},
   "outputs": [
    {
     "name": "stderr",
     "output_type": "stream",
     "text": [
      "[nltk_data] Downloading package stopwords to\n",
      "[nltk_data]     C:\\Users\\Rohan\\AppData\\Roaming\\nltk_data...\n",
      "[nltk_data]   Package stopwords is already up-to-date!\n"
     ]
    },
    {
     "data": {
      "text/plain": [
       "True"
      ]
     },
     "execution_count": 2,
     "metadata": {},
     "output_type": "execute_result"
    }
   ],
   "source": [
    "from nltk.corpus import stopwords\n",
    "\n",
    "import nltk\n",
    "nltk.download('stopwords')"
   ]
  },
  {
   "cell_type": "code",
   "execution_count": 3,
   "id": "d4984ca7",
   "metadata": {},
   "outputs": [],
   "source": [
    "stop_word_list = set(stopwords.words(\"english\"))"
   ]
  },
  {
   "cell_type": "code",
   "execution_count": 4,
   "id": "c24a66d7",
   "metadata": {},
   "outputs": [
    {
     "data": {
      "text/plain": [
       "['I have three visions for India.',\n",
       " 'In 3000 years of history, people from all over the world have come and conquered us — ruled us, looted us — yet we have not done this to others.',\n",
       " 'Why?',\n",
       " 'Because we respect freedom.',\n",
       " 'That is why my first vision is freedom.',\n",
       " 'I believe that India got its first vision of this in 1947.',\n",
       " 'We earned our freedom; we should protect and build on it.',\n",
       " 'My second vision is development.',\n",
       " 'For fifty years, we have been a developing nation.',\n",
       " 'It is time we see ourselves as a developed nation.',\n",
       " 'We are among the top five nations in terms of GDP.',\n",
       " 'Yet we see ourselves as a poor country.',\n",
       " \"It's time to dream big.\",\n",
       " 'We must stand up and take responsibility for making India a developed nation.',\n",
       " 'My third vision is India must stand up to the world.',\n",
       " 'Unless India stands up to the world, no one will respect us.',\n",
       " 'Only strength respects strength.',\n",
       " 'We must be strong not only as a military power but also as an economic one.',\n",
       " 'We must realize that self-respect comes only when the nation is strong and self-reliant.',\n",
       " 'I am confident that India has the potential.',\n",
       " 'The youth of India must take charge, innovate, work hard, and stay committed to the nation.',\n",
       " 'If we want to be a great nation, each one of us must contribute with dedication.',\n",
       " \"Let's ignite our minds, take pride in our country, and work towards a strong, self-reliant India.\"]"
      ]
     },
     "execution_count": 4,
     "metadata": {},
     "output_type": "execute_result"
    }
   ],
   "source": [
    "#1 Tokenization to make the corpus as sentences\n",
    "\n",
    "sentences = nltk.sent_tokenize(corpus)\n",
    "sentences"
   ]
  },
  {
   "cell_type": "code",
   "execution_count": 5,
   "id": "03ed61c3",
   "metadata": {},
   "outputs": [
    {
     "data": {
      "text/plain": [
       "['i three vision india .',\n",
       " 'in 3000 year histori , peopl world come conquer us — rule us , loot us — yet done other .',\n",
       " 'whi ?',\n",
       " 'becaus respect freedom .',\n",
       " 'that first vision freedom .',\n",
       " 'i believ india got first vision 1947 .',\n",
       " 'we earn freedom ; protect build .',\n",
       " 'my second vision develop .',\n",
       " 'for fifti year , develop nation .',\n",
       " 'it time see develop nation .',\n",
       " 'we among top five nation term gdp .',\n",
       " 'yet see poor countri .',\n",
       " \"it 's time dream big .\",\n",
       " 'we must stand take respons make india develop nation .',\n",
       " 'my third vision india must stand world .',\n",
       " 'unless india stand world , one respect us .',\n",
       " 'onli strength respect strength .',\n",
       " 'we must strong militari power also econom one .',\n",
       " 'we must realiz self-respect come nation strong self-reli .',\n",
       " 'i confid india potenti .',\n",
       " 'the youth india must take charg , innov , work hard , stay commit nation .',\n",
       " 'if want great nation , one us must contribut dedic .',\n",
       " \"let 's ignit mind , take pride countri , work toward strong , self-reli india .\"]"
      ]
     },
     "execution_count": 5,
     "metadata": {},
     "output_type": "execute_result"
    }
   ],
   "source": [
    "#2 removing the stop words and performing stemming\n",
    "from nltk.stem import PorterStemmer \n",
    "stemmer = PorterStemmer()\n",
    "for i in range(len(sentences)):\n",
    "    words = nltk.word_tokenize(sentences[i])\n",
    "    words = [stemmer.stem(word) for word in words if word not in stop_word_list]\n",
    "    sentences[i]=' '.join(words) #converts the words back into sentences.\n",
    "sentences"
   ]
  },
  {
   "cell_type": "code",
   "execution_count": 6,
   "id": "b32dceff",
   "metadata": {},
   "outputs": [
    {
     "data": {
      "text/plain": [
       "['i three vision india .',\n",
       " 'in 3000 year histori , peopl world come conquer us — rule us , loot us — yet done other .',\n",
       " 'whi ?',\n",
       " 'becaus respect freedom .',\n",
       " 'that first vision freedom .',\n",
       " 'i believ india got first vision 1947 .',\n",
       " 'we earn freedom ; protect build .',\n",
       " 'my second vision develop .',\n",
       " 'for fifti year , develop nation .',\n",
       " 'it time see develop nation .',\n",
       " 'we among top five nation term gdp .',\n",
       " 'yet see poor countri .',\n",
       " \"it 's time dream big .\",\n",
       " 'we must stand take respons make india develop nation .',\n",
       " 'my third vision india must stand world .',\n",
       " 'unless india stand world , one respect us .',\n",
       " 'onli strength respect strength .',\n",
       " 'we must strong militari power also econom one .',\n",
       " 'we must realiz self-respect come nation strong self-reli .',\n",
       " 'i confid india potenti .',\n",
       " 'the youth india must take charg , innov , work hard , stay commit nation .',\n",
       " 'if want great nation , one us must contribut dedic .',\n",
       " \"let 's ignit mind , take pride countri , work toward strong , self-reli india .\"]"
      ]
     },
     "execution_count": 6,
     "metadata": {},
     "output_type": "execute_result"
    }
   ],
   "source": [
    "#Repeating the process for SnowballStemmr\n",
    "\n",
    "corpus = \"\"\"I have three visions for India. In 3000 years of history, people from all over the world have come and conquered us — ruled us, looted us — yet we have not done this to others. Why? Because we respect freedom. That is why my first vision is freedom. I believe that India got its first vision of this in 1947. We earned our freedom; we should protect and build on it.\n",
    "My second vision is development. For fifty years, we have been a developing nation. It is time we see ourselves as a developed nation. We are among the top five nations in terms of GDP. Yet we see ourselves as a poor country. It's time to dream big. We must stand up and take responsibility for making India a developed nation.\n",
    "My third vision is India must stand up to the world. Unless India stands up to the world, no one will respect us. Only strength respects strength. We must be strong not only as a military power but also as an economic one. We must realize that self-respect comes only when the nation is strong and self-reliant.\n",
    "I am confident that India has the potential. The youth of India must take charge, innovate, work hard, and stay committed to the nation. If we want to be a great nation, each one of us must contribute with dedication. Let's ignite our minds, take pride in our country, and work towards a strong, self-reliant India.\n",
    "\"\"\"\n",
    "\n",
    "from nltk.stem import SnowballStemmer\n",
    "snowball_stemmer=SnowballStemmer(\"english\")\n",
    "\n",
    "\n",
    "#1 Tokenization to make the corpus as sentences\n",
    "sentences = nltk.sent_tokenize(corpus)\n",
    "\n",
    "\n",
    "#Applying the snowball stemming\n",
    "for i in range(len(sentences)):\n",
    "    words = nltk.word_tokenize(sentences[i])\n",
    "    words = [snowball_stemmer.stem(word) for word in words if word not in stop_word_list]\n",
    "    sentences[i]=' '.join(words) #converts the words back into sentences.\n",
    "sentences"
   ]
  },
  {
   "cell_type": "code",
   "execution_count": 7,
   "id": "b010085f",
   "metadata": {},
   "outputs": [
    {
     "data": {
      "text/plain": [
       "['i three visions india .',\n",
       " 'in 3000 years history , people world come conquer us — rule us , loot us — yet do others .',\n",
       " 'why ?',\n",
       " 'because respect freedom .',\n",
       " 'that first vision freedom .',\n",
       " 'i believe india get first vision 1947 .',\n",
       " 'we earn freedom ; protect build .',\n",
       " 'my second vision development .',\n",
       " 'for fifty years , develop nation .',\n",
       " 'it time see develop nation .',\n",
       " 'we among top five nations term gdp .',\n",
       " 'yet see poor country .',\n",
       " \"it 's time dream big .\",\n",
       " 'we must stand take responsibility make india develop nation .',\n",
       " 'my third vision india must stand world .',\n",
       " 'unless india stand world , one respect us .',\n",
       " 'only strength respect strength .',\n",
       " 'we must strong military power also economic one .',\n",
       " 'we must realize self-respect come nation strong self-reliant .',\n",
       " 'i confident india potential .',\n",
       " 'the youth india must take charge , innovate , work hard , stay commit nation .',\n",
       " 'if want great nation , one us must contribute dedication .',\n",
       " \"let 's ignite mind , take pride country , work towards strong , self-reliant india .\"]"
      ]
     },
     "execution_count": 7,
     "metadata": {},
     "output_type": "execute_result"
    }
   ],
   "source": [
    "#Repeating the process for lemmatization\n",
    "\n",
    "corpus = \"\"\"I have three visions for India. In 3000 years of history, people from all over the world have come and conquered us — ruled us, looted us — yet we have not done this to others. Why? Because we respect freedom. That is why my first vision is freedom. I believe that India got its first vision of this in 1947. We earned our freedom; we should protect and build on it.\n",
    "My second vision is development. For fifty years, we have been a developing nation. It is time we see ourselves as a developed nation. We are among the top five nations in terms of GDP. Yet we see ourselves as a poor country. It's time to dream big. We must stand up and take responsibility for making India a developed nation.\n",
    "My third vision is India must stand up to the world. Unless India stands up to the world, no one will respect us. Only strength respects strength. We must be strong not only as a military power but also as an economic one. We must realize that self-respect comes only when the nation is strong and self-reliant.\n",
    "I am confident that India has the potential. The youth of India must take charge, innovate, work hard, and stay committed to the nation. If we want to be a great nation, each one of us must contribute with dedication. Let's ignite our minds, take pride in our country, and work towards a strong, self-reliant India.\n",
    "\"\"\"\n",
    "\n",
    "from nltk.stem import WordNetLemmatizer\n",
    "lemmatizer=WordNetLemmatizer()\n",
    "\n",
    "#1 Tokenization to make the corpus as sentences\n",
    "sentences = nltk.sent_tokenize(corpus)\n",
    "\n",
    "\n",
    "#Applying the lemmatization\n",
    "for i in range(len(sentences)):\n",
    "    words = nltk.word_tokenize(sentences[i])\n",
    "    words = [lemmatizer.lemmatize(word.lower(),pos='v') for word in words if word not in stop_word_list]\n",
    "    sentences[i]=' '.join(words) #converts the words back into sentences.\n",
    "sentences"
   ]
  },
  {
   "cell_type": "code",
   "execution_count": null,
   "id": "62052de2",
   "metadata": {},
   "outputs": [],
   "source": []
  }
 ],
 "metadata": {
  "kernelspec": {
   "display_name": "base",
   "language": "python",
   "name": "python3"
  },
  "language_info": {
   "codemirror_mode": {
    "name": "ipython",
    "version": 3
   },
   "file_extension": ".py",
   "mimetype": "text/x-python",
   "name": "python",
   "nbconvert_exporter": "python",
   "pygments_lexer": "ipython3",
   "version": "3.12.4"
  }
 },
 "nbformat": 4,
 "nbformat_minor": 5
}
