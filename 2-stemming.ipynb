{
 "cells": [
  {
   "cell_type": "markdown",
   "id": "bae57b99",
   "metadata": {},
   "source": [
    "Stemming is the process to redce the words to the stem or the root word , \n",
    "Meaning , eating , eat,eats and all these mean the same , so we need to digest it to the root word.\n",
    "\n"
   ]
  },
  {
   "cell_type": "code",
   "execution_count": 1,
   "id": "e8ede759",
   "metadata": {},
   "outputs": [],
   "source": [
    "words = [\"eating\",\"eats\",\"eaten\",\"writing\",\"writes\",\"programming\",\"programs\",\"history\", \"finally\" , \"finalize\",\"congradulations\",\"fairly\",\"Sportingly\"]"
   ]
  },
  {
   "cell_type": "code",
   "execution_count": 2,
   "id": "06997932",
   "metadata": {},
   "outputs": [
    {
     "name": "stdout",
     "output_type": "stream",
     "text": [
      "eating--->eat\n",
      "eats--->eat\n",
      "eaten--->eaten\n",
      "writing--->write\n",
      "writes--->write\n",
      "programming--->program\n",
      "programs--->program\n",
      "history--->histori\n",
      "finally--->final\n",
      "finalize--->final\n",
      "congradulations--->congradul\n",
      "fairly--->fairli\n",
      "Sportingly--->sportingli\n"
     ]
    }
   ],
   "source": [
    "#Stemming 1-> Porter Stemming \n",
    "from nltk.stem import PorterStemmer\n",
    "stemming=PorterStemmer()\n",
    "\n",
    "for word in words:\n",
    "    print(word+\"--->\"+stemming.stem(word))\n",
    "\n",
    "\n",
    "#if you see for history and congradulation we get the partial word which is the major problem with stemming and changes the meaning all together"
   ]
  },
  {
   "cell_type": "code",
   "execution_count": 3,
   "id": "efc879d5",
   "metadata": {},
   "outputs": [
    {
     "name": "stdout",
     "output_type": "stream",
     "text": [
      "eat\n",
      "eat\n"
     ]
    }
   ],
   "source": [
    "#Stemming 2-> RegexpStemmer Class => Here we give the regular expression and it removes the prefix or suffix that matched the expression \n",
    "\n",
    "from nltk.stem import RegexpStemmer\n",
    "reg_stemmer = RegexpStemmer('ing$|s$|e$|able$', min=4) #those ending with the stop words , ing ,s ,e,able\n",
    "print(reg_stemmer.stem(\"eating\")) \n",
    "print(reg_stemmer.stem(\"eats\")) "
   ]
  },
  {
   "cell_type": "code",
   "execution_count": 4,
   "id": "54e754fe",
   "metadata": {},
   "outputs": [
    {
     "name": "stdout",
     "output_type": "stream",
     "text": [
      "eating--->eat\n",
      "eats--->eat\n",
      "eaten--->eaten\n",
      "writing--->write\n",
      "writes--->write\n",
      "programming--->program\n",
      "programs--->program\n",
      "history--->histori\n",
      "finally--->final\n",
      "finalize--->final\n",
      "congradulations--->congradul\n",
      "fairly--->fair\n",
      "Sportingly--->sport\n"
     ]
    }
   ],
   "source": [
    "#Stemming 3-> Snowball Stemmer => This is better than Porter Stemmer\n",
    "\n",
    "from nltk.stem import SnowballStemmer\n",
    "snowball_stemmer=SnowballStemmer(\"english\")\n",
    "\n",
    "for word in words:\n",
    "    print(word+\"--->\"+snowball_stemmer.stem(word))\n",
    "\n",
    "#Notice that snowball does better with sportingly and fairly"
   ]
  }
 ],
 "metadata": {
  "kernelspec": {
   "display_name": "base",
   "language": "python",
   "name": "python3"
  },
  "language_info": {
   "codemirror_mode": {
    "name": "ipython",
    "version": 3
   },
   "file_extension": ".py",
   "mimetype": "text/x-python",
   "name": "python",
   "nbconvert_exporter": "python",
   "pygments_lexer": "ipython3",
   "version": "3.12.4"
  }
 },
 "nbformat": 4,
 "nbformat_minor": 5
}
