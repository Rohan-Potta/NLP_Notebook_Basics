{
 "cells": [
  {
   "cell_type": "markdown",
   "id": "20656299",
   "metadata": {},
   "source": [
    "This is tell what the parts of the word are corresponding to a sentence for example the noun,verb, adjective and so on and then tag them "
   ]
  },
  {
   "cell_type": "code",
   "execution_count": 1,
   "id": "77ca522b",
   "metadata": {},
   "outputs": [],
   "source": [
    "corpus = \"\"\"I have three visions for India. In 3000 years of history, people from all over the world have come and conquered us — ruled us, looted us — yet we have not done this to others. Why? Because we respect freedom. That is why my first vision is freedom. I believe that India got its first vision of this in 1947. We earned our freedom; we should protect and build on it.\n",
    "My second vision is development. For fifty years, we have been a developing nation. It is time we see ourselves as a developed nation. We are among the top five nations in terms of GDP. Yet we see ourselves as a poor country. It's time to dream big. We must stand up and take responsibility for making India a developed nation.\n",
    "My third vision is India must stand up to the world. Unless India stands up to the world, no one will respect us. Only strength respects strength. We must be strong not only as a military power but also as an economic one. We must realize that self-respect comes only when the nation is strong and self-reliant.\n",
    "I am confident that India has the potential. The youth of India must take charge, innovate, work hard, and stay committed to the nation. If we want to be a great nation, each one of us must contribute with dedication. Let's ignite our minds, take pride in our country, and work towards a strong, self-reliant India.\n",
    "\"\"\"\n"
   ]
  },
  {
   "cell_type": "code",
   "execution_count": 2,
   "id": "986e9043",
   "metadata": {},
   "outputs": [
    {
     "name": "stderr",
     "output_type": "stream",
     "text": [
      "[nltk_data] Downloading package averaged_perceptron_tagger to\n",
      "[nltk_data]     C:\\Users\\Rohan\\AppData\\Roaming\\nltk_data...\n",
      "[nltk_data]   Package averaged_perceptron_tagger is already up-to-\n",
      "[nltk_data]       date!\n"
     ]
    },
    {
     "name": "stdout",
     "output_type": "stream",
     "text": [
      "[('I', 'PRP'), ('three', 'CD'), ('visions', 'NNS'), ('India', 'NNP'), ('.', '.')]\n",
      "[('In', 'IN'), ('3000', 'CD'), ('years', 'NNS'), ('history', 'NN'), (',', ','), ('people', 'NNS'), ('world', 'NN'), ('come', 'VBP'), ('conquered', 'VBN'), ('us', 'PRP'), ('—', 'VB'), ('ruled', 'VBD'), ('us', 'PRP'), (',', ','), ('looted', 'VBD'), ('us', 'PRP'), ('—', 'VBP'), ('yet', 'RB'), ('done', 'VBN'), ('others', 'NNS'), ('.', '.')]\n",
      "[('Why', 'WRB'), ('?', '.')]\n",
      "[('Because', 'IN'), ('respect', 'NN'), ('freedom', 'NN'), ('.', '.')]\n",
      "[('That', 'DT'), ('first', 'JJ'), ('vision', 'NN'), ('freedom', 'NN'), ('.', '.')]\n",
      "[('I', 'PRP'), ('believe', 'VBP'), ('India', 'NNP'), ('got', 'VBD'), ('first', 'JJ'), ('vision', 'NN'), ('1947', 'CD'), ('.', '.')]\n",
      "[('We', 'PRP'), ('earned', 'VBD'), ('freedom', 'NN'), (';', ':'), ('protect', 'JJ'), ('build', 'NN'), ('.', '.')]\n",
      "[('My', 'PRP$'), ('second', 'JJ'), ('vision', 'NN'), ('development', 'NN'), ('.', '.')]\n",
      "[('For', 'IN'), ('fifty', 'JJ'), ('years', 'NNS'), (',', ','), ('developing', 'VBG'), ('nation', 'NN'), ('.', '.')]\n",
      "[('It', 'PRP'), ('time', 'NN'), ('see', 'VB'), ('developed', 'JJ'), ('nation', 'NN'), ('.', '.')]\n",
      "[('We', 'PRP'), ('among', 'IN'), ('top', 'JJ'), ('five', 'CD'), ('nations', 'NNS'), ('terms', 'NNS'), ('GDP', 'NNP'), ('.', '.')]\n",
      "[('Yet', 'RB'), ('see', 'VB'), ('poor', 'JJ'), ('country', 'NN'), ('.', '.')]\n",
      "[('It', 'PRP'), (\"'s\", 'VBZ'), ('time', 'NN'), ('dream', 'NN'), ('big', 'JJ'), ('.', '.')]\n",
      "[('We', 'PRP'), ('must', 'MD'), ('stand', 'VB'), ('take', 'VB'), ('responsibility', 'NN'), ('making', 'VBG'), ('India', 'NNP'), ('developed', 'JJ'), ('nation', 'NN'), ('.', '.')]\n",
      "[('My', 'PRP$'), ('third', 'JJ'), ('vision', 'NN'), ('India', 'NNP'), ('must', 'MD'), ('stand', 'VB'), ('world', 'NN'), ('.', '.')]\n",
      "[('Unless', 'IN'), ('India', 'NNP'), ('stands', 'VBZ'), ('world', 'NN'), (',', ','), ('one', 'CD'), ('respect', 'NN'), ('us', 'PRP'), ('.', '.')]\n",
      "[('Only', 'RB'), ('strength', 'NN'), ('respects', 'NNS'), ('strength', 'NN'), ('.', '.')]\n",
      "[('We', 'PRP'), ('must', 'MD'), ('strong', 'JJ'), ('military', 'JJ'), ('power', 'NN'), ('also', 'RB'), ('economic', 'JJ'), ('one', 'CD'), ('.', '.')]\n",
      "[('We', 'PRP'), ('must', 'MD'), ('realize', 'VB'), ('self-respect', 'JJ'), ('comes', 'VBZ'), ('nation', 'NN'), ('strong', 'JJ'), ('self-reliant', 'NN'), ('.', '.')]\n",
      "[('I', 'PRP'), ('confident', 'VBP'), ('India', 'NNP'), ('potential', 'NN'), ('.', '.')]\n",
      "[('The', 'DT'), ('youth', 'NN'), ('India', 'NNP'), ('must', 'MD'), ('take', 'VB'), ('charge', 'NN'), (',', ','), ('innovate', 'NN'), (',', ','), ('work', 'NN'), ('hard', 'RB'), (',', ','), ('stay', 'VB'), ('committed', 'JJ'), ('nation', 'NN'), ('.', '.')]\n",
      "[('If', 'IN'), ('want', 'JJ'), ('great', 'JJ'), ('nation', 'NN'), (',', ','), ('one', 'CD'), ('us', 'PRP'), ('must', 'MD'), ('contribute', 'VB'), ('dedication', 'NN'), ('.', '.')]\n",
      "[('Let', 'VB'), (\"'s\", 'POS'), ('ignite', 'JJ'), ('minds', 'NNS'), (',', ','), ('take', 'VBP'), ('pride', 'JJ'), ('country', 'NN'), (',', ','), ('work', 'NN'), ('towards', 'NNS'), ('strong', 'JJ'), (',', ','), ('self-reliant', 'JJ'), ('India', 'NNP'), ('.', '.')]\n"
     ]
    }
   ],
   "source": [
    "import nltk \n",
    "nltk.download('averaged_perceptron_tagger')\n",
    "sentences = nltk.sent_tokenize(corpus)\n",
    "#We will find the POS(Part of speech) tag\n",
    "\n",
    "from nltk.corpus import stopwords\n",
    "stop_word_list = set(stopwords.words(\"english\"))\n",
    "\n",
    "for i in range(len(sentences)):\n",
    "    words = nltk.word_tokenize(sentences[i])\n",
    "    words = [word for word in words if word not in stop_word_list]\n",
    "    pos_tag=nltk.pos_tag(words)\n",
    "    print(pos_tag )\n"
   ]
  },
  {
   "cell_type": "code",
   "execution_count": 3,
   "id": "fe41b068",
   "metadata": {},
   "outputs": [
    {
     "data": {
      "text/plain": [
       "[('Taj', 'NNP'),\n",
       " ('Mahal', 'NNP'),\n",
       " ('is', 'VBZ'),\n",
       " ('a', 'DT'),\n",
       " ('beautiful', 'JJ'),\n",
       " ('Monument', 'NN')]"
      ]
     },
     "execution_count": 3,
     "metadata": {},
     "output_type": "execute_result"
    }
   ],
   "source": [
    "nltk.pos_tag(\"Taj Mahal is a beautiful Monument\".split())"
   ]
  },
  {
   "cell_type": "code",
   "execution_count": null,
   "id": "4634fe54",
   "metadata": {},
   "outputs": [],
   "source": []
  }
 ],
 "metadata": {
  "kernelspec": {
   "display_name": "base",
   "language": "python",
   "name": "python3"
  },
  "language_info": {
   "codemirror_mode": {
    "name": "ipython",
    "version": 3
   },
   "file_extension": ".py",
   "mimetype": "text/x-python",
   "name": "python",
   "nbconvert_exporter": "python",
   "pygments_lexer": "ipython3",
   "version": "3.12.4"
  }
 },
 "nbformat": 4,
 "nbformat_minor": 5
}
